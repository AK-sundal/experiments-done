{
 "cells": [
  {
   "cell_type": "code",
   "execution_count": 1,
   "metadata": {},
   "outputs": [],
   "source": [
    "from torch_geometric.datasets import  TUDataset\n",
    "from torch_geometric.transforms import ToDense\n",
    "from torch_geometric.loader import DenseDataLoader\n",
    "from  torch_geometric.nn import DenseSAGEConv\n",
    "import torch\n",
    "from math import ceil\n",
    "from torch_geometric.nn import dense_diff_pool, GraphNorm\n",
    "import torch.nn.functional as F"
   ]
  },
  {
   "cell_type": "code",
   "execution_count": 2,
   "metadata": {},
   "outputs": [],
   "source": [
    "max_num_nodes =50\n",
    "class Reduce(object):\n",
    "    def __call__(self, data):\n",
    "        return data.num_nodes <= max_num_nodes\n"
   ]
  },
  {
   "cell_type": "code",
   "execution_count": 3,
   "metadata": {},
   "outputs": [
    {
     "name": "stderr",
     "output_type": "stream",
     "text": [
      "Downloading https://www.chrsmrrs.com/graphkerneldatasets/PROTEINS.zip\n",
      "Processing...\n",
      "Done!\n"
     ]
    }
   ],
   "source": [
    "dataset = TUDataset(\n",
    "    root=\"data/TUDataset\",\n",
    "    name=\"PROTEINS\",\n",
    "    transform=ToDense(max_num_nodes),\n",
    "    pre_filter=Reduce(),\n",
    "    force_reload=True,\n",
    ")\n"
   ]
  },
  {
   "cell_type": "code",
   "execution_count": 4,
   "metadata": {},
   "outputs": [],
   "source": [
    "# dataset = TUDataset(\n",
    "#     root=\"data/TUDataset\",\n",
    "#     name=\"PROTEINS\",\n",
    "#     force_reload=True\n",
    "# )\n",
    "# len(dataset)\n"
   ]
  },
  {
   "cell_type": "code",
   "execution_count": 5,
   "metadata": {},
   "outputs": [],
   "source": [
    "# max_num_nodes = 0\n",
    "# for data in dataset:\n",
    "#     if data.num_nodes > max_num_nodes:\n",
    "#         max_num_nodes = data.num_nodes\n",
    "# max_num_nodes"
   ]
  },
  {
   "cell_type": "code",
   "execution_count": 6,
   "metadata": {},
   "outputs": [],
   "source": [
    "# dataset = TUDataset(\n",
    "#     root=\"data/TUDataset\",\n",
    "#     name=\"PROTEINS\",\n",
    "#     transform=ToDense(max_num_nodes),\n",
    "#     force_reload=True,\n",
    "# )\n"
   ]
  },
  {
   "cell_type": "code",
   "execution_count": 7,
   "metadata": {},
   "outputs": [
    {
     "data": {
      "text/plain": [
       "871"
      ]
     },
     "execution_count": 7,
     "metadata": {},
     "output_type": "execute_result"
    }
   ],
   "source": [
    "len(dataset)\n",
    "# it did not decresed beacuse\n",
    "#  i took max num nodes in dataset for computing ToDense\n",
    "#  so need prefilter\n"
   ]
  },
  {
   "cell_type": "code",
   "execution_count": 8,
   "metadata": {},
   "outputs": [],
   "source": [
    "dataset = dataset.shuffle()\n"
   ]
  },
  {
   "cell_type": "code",
   "execution_count": 9,
   "metadata": {},
   "outputs": [
    {
     "data": {
      "text/plain": [
       "87"
      ]
     },
     "execution_count": 9,
     "metadata": {},
     "output_type": "execute_result"
    }
   ],
   "source": [
    "\n",
    "test_dataset = dataset[:int(0.1*len(dataset))]\n",
    "len(test_dataset)\n"
   ]
  },
  {
   "cell_type": "code",
   "execution_count": 10,
   "metadata": {},
   "outputs": [
    {
     "data": {
      "text/plain": [
       "87"
      ]
     },
     "execution_count": 10,
     "metadata": {},
     "output_type": "execute_result"
    }
   ],
   "source": [
    "val_dataset = dataset[len(test_dataset) : int(0.2 *len(dataset))]\n",
    "len(val_dataset)"
   ]
  },
  {
   "cell_type": "code",
   "execution_count": 11,
   "metadata": {},
   "outputs": [
    {
     "data": {
      "text/plain": [
       "697"
      ]
     },
     "execution_count": 11,
     "metadata": {},
     "output_type": "execute_result"
    }
   ],
   "source": [
    "train_dataset = dataset[len(val_dataset)+len(test_dataset):]\n",
    "len(train_dataset)"
   ]
  },
  {
   "cell_type": "code",
   "execution_count": 12,
   "metadata": {},
   "outputs": [],
   "source": [
    "test_loader = DenseDataLoader(test_dataset, batch_size=32)\n",
    "val_loader = DenseDataLoader(val_dataset, batch_size=32)\n",
    "train_loader = DenseDataLoader(train_dataset, batch_size=32)\n"
   ]
  },
  {
   "cell_type": "code",
   "execution_count": 13,
   "metadata": {},
   "outputs": [],
   "source": [
    "class GNNMODULE(torch.nn.Module):\n",
    "    def __init__(\n",
    "        self,\n",
    "        _in,\n",
    "        _hidden,\n",
    "        _num_layer,\n",
    "        _out,\n",
    "    ):\n",
    "        super().__init__()\n",
    "        self.gnn = torch.nn.ModuleList()\n",
    "        self.graph_norm = torch.nn.ModuleList()\n",
    "        if _num_layer == 1:\n",
    "            self.gnn.append(DenseSAGEConv(_in, _out))\n",
    "            self.graph_norm.append(GraphNorm(_out))\n",
    "        else:\n",
    "            self.gnn.append(DenseSAGEConv(_in, _hidden))\n",
    "            self.graph_norm.append(GraphNorm(_hidden))\n",
    "            for _ in range(_num_layer - 2):\n",
    "                self.gnn.append(DenseSAGEConv(_hidden, _hidden))\n",
    "                self.graph_norm.append(GraphNorm(_hidden))\n",
    "            self.gnn.append(DenseSAGEConv(_hidden, _out))\n",
    "            self.graph_norm.append(GraphNorm(_out))\n",
    "        self.num_layer = _num_layer\n",
    "\n",
    "    def forward(self, x, adj):\n",
    "        for i in range(self.num_layer):\n",
    "            x = F.relu(self.graph_norm[i](self.gnn[i](x, adj)))\n",
    "\n",
    "        return x"
   ]
  },
  {
   "cell_type": "code",
   "execution_count": 14,
   "metadata": {},
   "outputs": [],
   "source": [
    "class DiFFPooLMODEL(torch.nn.Module):\n",
    "    def __init__(self, _in, _hidden, _out):\n",
    "        super().__init__()\n",
    "\n",
    "        self.gnn_in = GNNMODULE(_in, _hidden, 1, _hidden)\n",
    "\n",
    "        self.gnn_emb_1 = GNNMODULE(_hidden, _hidden, 2, _hidden)\n",
    "        num_nodes = ceil(0.25 * max_num_nodes)\n",
    "        self.gnn_pool_1 = GNNMODULE(_hidden, _hidden, 2, num_nodes)\n",
    "\n",
    "        self.gnn_mid = GNNMODULE(_hidden, _hidden, 1, _hidden)\n",
    "\n",
    "        self.gnn_emb_2 = GNNMODULE(_hidden, _hidden, 2, _hidden)\n",
    "        num_nodes = ceil(0.25 * num_nodes)\n",
    "        self.gnn_pool_2 = GNNMODULE(_hidden, _hidden, 2, num_nodes)\n",
    "\n",
    "        self.gnn_out = GNNMODULE(_hidden, _hidden, 1, _hidden)\n",
    "\n",
    "        self.lin_1 = torch.nn.Linear(_hidden, _hidden)\n",
    "        self.lin_2 = torch.nn.Linear(_hidden, _out)\n",
    "        self.bns = torch.nn.BatchNorm1d(_hidden)\n",
    "\n",
    "    def forward(self, x, adj, mask):\n",
    "        x = self.gnn_in(x, adj)\n",
    "\n",
    "        s = self.gnn_pool_1(x, adj)\n",
    "        x = self.gnn_emb_1(x, adj)\n",
    "        x, adj, llp_1, le_1 = dense_diff_pool(x, adj, s, mask)\n",
    "\n",
    "        x = self.gnn_mid(x, adj)\n",
    "\n",
    "        s = self.gnn_pool_2(x, adj)\n",
    "        x = self.gnn_emb_2(x, adj)\n",
    "        x, adj, llp_2, le_2 = dense_diff_pool(x, adj, s)\n",
    "\n",
    "        x = self.gnn_out(x, adj)\n",
    "        x = x.mean(dim=1)\n",
    "\n",
    "        # x = F.relu(x)\n",
    "        # x = F.dropout(x, p=0.3)\n",
    "        x = (self.lin_1(x))\n",
    "        x = F.relu(x)\n",
    "        # x = F.dropout(x, p=0.3)\n",
    "        x = self.lin_2(x)\n",
    "        x = F.softmax(x, dim=-1)\n",
    "        # print(x.shape)\n",
    "        return x, llp_1 + le_1 + llp_2 + le_2\n"
   ]
  },
  {
   "cell_type": "code",
   "execution_count": 15,
   "metadata": {},
   "outputs": [],
   "source": [
    "model = DiFFPooLMODEL(dataset.num_features, 64, dataset.num_classes)\n",
    "optimizer = torch.optim.Adam(model.parameters(), lr=0.01)\n"
   ]
  },
  {
   "cell_type": "code",
   "execution_count": 16,
   "metadata": {},
   "outputs": [
    {
     "name": "stdout",
     "output_type": "stream",
     "text": [
      "Epoch: 001, Train Loss: 0.8722, Val Acc: 0.7126, Test Acc: 0.7356\n",
      "Epoch: 002, Train Loss: 0.7962, Val Acc: 0.7241, Test Acc: 0.7471\n",
      "Epoch: 003, Train Loss: 0.7509, Val Acc: 0.6897, Test Acc: 0.7701\n",
      "Epoch: 004, Train Loss: 0.7236, Val Acc: 0.7011, Test Acc: 0.7816\n",
      "Epoch: 005, Train Loss: 0.7028, Val Acc: 0.7011, Test Acc: 0.7356\n",
      "Epoch: 006, Train Loss: 0.6834, Val Acc: 0.6782, Test Acc: 0.7011\n",
      "Epoch: 007, Train Loss: 0.6744, Val Acc: 0.7241, Test Acc: 0.7241\n",
      "Epoch: 008, Train Loss: 0.6826, Val Acc: 0.7356, Test Acc: 0.7011\n",
      "Epoch: 009, Train Loss: 0.6614, Val Acc: 0.7471, Test Acc: 0.6897\n",
      "Epoch: 010, Train Loss: 0.6591, Val Acc: 0.7471, Test Acc: 0.7356\n",
      "Epoch: 011, Train Loss: 0.6329, Val Acc: 0.7471, Test Acc: 0.7356\n",
      "Epoch: 012, Train Loss: 0.6329, Val Acc: 0.7471, Test Acc: 0.7586\n",
      "Epoch: 013, Train Loss: 0.6140, Val Acc: 0.7241, Test Acc: 0.7586\n",
      "Epoch: 014, Train Loss: 0.6014, Val Acc: 0.7356, Test Acc: 0.7471\n",
      "Epoch: 015, Train Loss: 0.5944, Val Acc: 0.7586, Test Acc: 0.7356\n",
      "Epoch: 016, Train Loss: 0.6376, Val Acc: 0.6782, Test Acc: 0.7241\n",
      "Epoch: 017, Train Loss: 0.6320, Val Acc: 0.7356, Test Acc: 0.7126\n",
      "Epoch: 018, Train Loss: 0.6050, Val Acc: 0.6552, Test Acc: 0.7126\n",
      "Epoch: 019, Train Loss: 0.5940, Val Acc: 0.7586, Test Acc: 0.7586\n",
      "Epoch: 020, Train Loss: 0.6008, Val Acc: 0.6667, Test Acc: 0.7931\n",
      "Epoch: 021, Train Loss: 0.6182, Val Acc: 0.7011, Test Acc: 0.7126\n",
      "Epoch: 022, Train Loss: 0.6124, Val Acc: 0.7011, Test Acc: 0.6897\n",
      "Epoch: 023, Train Loss: 0.6001, Val Acc: 0.7011, Test Acc: 0.6322\n",
      "Epoch: 024, Train Loss: 0.5845, Val Acc: 0.7241, Test Acc: 0.6782\n",
      "Epoch: 025, Train Loss: 0.5812, Val Acc: 0.7241, Test Acc: 0.7011\n",
      "Epoch: 026, Train Loss: 0.6133, Val Acc: 0.7126, Test Acc: 0.7126\n",
      "Epoch: 027, Train Loss: 0.5776, Val Acc: 0.7241, Test Acc: 0.7586\n",
      "Epoch: 028, Train Loss: 0.5617, Val Acc: 0.6207, Test Acc: 0.7011\n",
      "Epoch: 029, Train Loss: 0.6108, Val Acc: 0.6782, Test Acc: 0.7701\n",
      "Epoch: 030, Train Loss: 0.5920, Val Acc: 0.6782, Test Acc: 0.7356\n",
      "Epoch: 031, Train Loss: 0.5647, Val Acc: 0.6897, Test Acc: 0.7586\n",
      "Epoch: 032, Train Loss: 0.5731, Val Acc: 0.7471, Test Acc: 0.7586\n",
      "Epoch: 033, Train Loss: 0.5780, Val Acc: 0.7356, Test Acc: 0.7126\n",
      "Epoch: 034, Train Loss: 0.5947, Val Acc: 0.6897, Test Acc: 0.7011\n",
      "Epoch: 035, Train Loss: 0.5882, Val Acc: 0.6782, Test Acc: 0.7241\n",
      "Epoch: 036, Train Loss: 0.5767, Val Acc: 0.7126, Test Acc: 0.7356\n",
      "Epoch: 037, Train Loss: 0.5762, Val Acc: 0.7011, Test Acc: 0.7586\n",
      "Epoch: 038, Train Loss: 0.5694, Val Acc: 0.6667, Test Acc: 0.7126\n",
      "Epoch: 039, Train Loss: 0.5678, Val Acc: 0.7356, Test Acc: 0.7586\n",
      "Epoch: 040, Train Loss: 0.5576, Val Acc: 0.6897, Test Acc: 0.7356\n",
      "Epoch: 041, Train Loss: 0.6075, Val Acc: 0.7356, Test Acc: 0.7816\n",
      "Epoch: 042, Train Loss: 0.6096, Val Acc: 0.7126, Test Acc: 0.7586\n",
      "Epoch: 043, Train Loss: 0.6134, Val Acc: 0.6552, Test Acc: 0.7241\n",
      "Epoch: 044, Train Loss: 0.5809, Val Acc: 0.7241, Test Acc: 0.7356\n",
      "Epoch: 045, Train Loss: 0.5696, Val Acc: 0.6667, Test Acc: 0.7126\n",
      "Epoch: 046, Train Loss: 0.5620, Val Acc: 0.7126, Test Acc: 0.7356\n",
      "Epoch: 047, Train Loss: 0.5721, Val Acc: 0.6667, Test Acc: 0.7241\n",
      "Epoch: 048, Train Loss: 0.5609, Val Acc: 0.7471, Test Acc: 0.7471\n",
      "Epoch: 049, Train Loss: 0.5837, Val Acc: 0.6897, Test Acc: 0.6897\n",
      "Epoch: 050, Train Loss: 0.5661, Val Acc: 0.7126, Test Acc: 0.7126\n",
      "Epoch: 051, Train Loss: 0.5706, Val Acc: 0.7356, Test Acc: 0.7356\n",
      "Epoch: 052, Train Loss: 0.5421, Val Acc: 0.6782, Test Acc: 0.6897\n",
      "Epoch: 053, Train Loss: 0.5379, Val Acc: 0.7241, Test Acc: 0.7241\n",
      "Epoch: 054, Train Loss: 0.5448, Val Acc: 0.7241, Test Acc: 0.7356\n",
      "Epoch: 055, Train Loss: 0.5516, Val Acc: 0.6092, Test Acc: 0.7241\n",
      "Epoch: 056, Train Loss: 0.5935, Val Acc: 0.6322, Test Acc: 0.7241\n",
      "Epoch: 057, Train Loss: 0.5805, Val Acc: 0.6897, Test Acc: 0.7356\n",
      "Epoch: 058, Train Loss: 0.5773, Val Acc: 0.7126, Test Acc: 0.7126\n",
      "Epoch: 059, Train Loss: 0.5539, Val Acc: 0.7011, Test Acc: 0.7471\n",
      "Epoch: 060, Train Loss: 0.5625, Val Acc: 0.6782, Test Acc: 0.7011\n",
      "Epoch: 061, Train Loss: 0.5546, Val Acc: 0.6667, Test Acc: 0.7356\n",
      "Epoch: 062, Train Loss: 0.5529, Val Acc: 0.6782, Test Acc: 0.7241\n",
      "Epoch: 063, Train Loss: 0.5345, Val Acc: 0.7011, Test Acc: 0.7011\n",
      "Epoch: 064, Train Loss: 0.5526, Val Acc: 0.6552, Test Acc: 0.7241\n",
      "Epoch: 065, Train Loss: 0.5702, Val Acc: 0.6897, Test Acc: 0.7241\n",
      "Epoch: 066, Train Loss: 0.5317, Val Acc: 0.6897, Test Acc: 0.7356\n",
      "Epoch: 067, Train Loss: 0.5224, Val Acc: 0.6897, Test Acc: 0.7356\n",
      "Epoch: 068, Train Loss: 0.5219, Val Acc: 0.6552, Test Acc: 0.7241\n",
      "Epoch: 069, Train Loss: 0.5525, Val Acc: 0.7011, Test Acc: 0.7356\n",
      "Epoch: 070, Train Loss: 0.5476, Val Acc: 0.6782, Test Acc: 0.7701\n",
      "Epoch: 071, Train Loss: 0.5315, Val Acc: 0.6897, Test Acc: 0.7471\n",
      "Epoch: 072, Train Loss: 0.5363, Val Acc: 0.6667, Test Acc: 0.7241\n",
      "Epoch: 073, Train Loss: 0.5340, Val Acc: 0.6782, Test Acc: 0.7471\n",
      "Epoch: 074, Train Loss: 0.5177, Val Acc: 0.6207, Test Acc: 0.7356\n",
      "Epoch: 075, Train Loss: 0.5156, Val Acc: 0.6437, Test Acc: 0.7471\n",
      "Epoch: 076, Train Loss: 0.5209, Val Acc: 0.6782, Test Acc: 0.7356\n",
      "Epoch: 077, Train Loss: 0.5320, Val Acc: 0.6092, Test Acc: 0.6437\n",
      "Epoch: 078, Train Loss: 0.6153, Val Acc: 0.7586, Test Acc: 0.7241\n",
      "Epoch: 079, Train Loss: 0.5550, Val Acc: 0.7816, Test Acc: 0.7471\n",
      "Epoch: 080, Train Loss: 0.5622, Val Acc: 0.7471, Test Acc: 0.7471\n",
      "Epoch: 081, Train Loss: 0.5652, Val Acc: 0.7356, Test Acc: 0.7586\n",
      "Epoch: 082, Train Loss: 0.5680, Val Acc: 0.7011, Test Acc: 0.8046\n",
      "Epoch: 083, Train Loss: 0.5560, Val Acc: 0.7586, Test Acc: 0.7471\n",
      "Epoch: 084, Train Loss: 0.5361, Val Acc: 0.7011, Test Acc: 0.7471\n",
      "Epoch: 085, Train Loss: 0.5241, Val Acc: 0.7241, Test Acc: 0.7471\n",
      "Epoch: 086, Train Loss: 0.5357, Val Acc: 0.7356, Test Acc: 0.7241\n",
      "Epoch: 087, Train Loss: 0.5329, Val Acc: 0.7011, Test Acc: 0.7356\n",
      "Epoch: 088, Train Loss: 0.5177, Val Acc: 0.6897, Test Acc: 0.7471\n",
      "Epoch: 089, Train Loss: 0.5105, Val Acc: 0.6782, Test Acc: 0.7126\n",
      "Epoch: 090, Train Loss: 0.4986, Val Acc: 0.7126, Test Acc: 0.7701\n",
      "Epoch: 091, Train Loss: 0.5275, Val Acc: 0.7011, Test Acc: 0.7471\n",
      "Epoch: 092, Train Loss: 0.5249, Val Acc: 0.7471, Test Acc: 0.7356\n",
      "Epoch: 093, Train Loss: 0.5212, Val Acc: 0.7586, Test Acc: 0.8046\n",
      "Epoch: 094, Train Loss: 0.5069, Val Acc: 0.7241, Test Acc: 0.7356\n",
      "Epoch: 095, Train Loss: 0.4916, Val Acc: 0.6782, Test Acc: 0.7126\n",
      "Epoch: 096, Train Loss: 0.4841, Val Acc: 0.6897, Test Acc: 0.7471\n",
      "Epoch: 097, Train Loss: 0.4849, Val Acc: 0.7126, Test Acc: 0.7126\n",
      "Epoch: 098, Train Loss: 0.4991, Val Acc: 0.6897, Test Acc: 0.7126\n",
      "Epoch: 099, Train Loss: 0.5196, Val Acc: 0.7126, Test Acc: 0.7356\n",
      "Epoch: 100, Train Loss: 0.5232, Val Acc: 0.7126, Test Acc: 0.6667\n",
      "Epoch: 101, Train Loss: 0.5159, Val Acc: 0.6437, Test Acc: 0.6667\n",
      "Epoch: 102, Train Loss: 0.5166, Val Acc: 0.7011, Test Acc: 0.7126\n",
      "Epoch: 103, Train Loss: 0.5064, Val Acc: 0.7126, Test Acc: 0.7011\n",
      "Epoch: 104, Train Loss: 0.5127, Val Acc: 0.7011, Test Acc: 0.7471\n",
      "Epoch: 105, Train Loss: 0.5177, Val Acc: 0.6667, Test Acc: 0.7241\n",
      "Epoch: 106, Train Loss: 0.5251, Val Acc: 0.6667, Test Acc: 0.7126\n",
      "Epoch: 107, Train Loss: 0.5181, Val Acc: 0.6322, Test Acc: 0.7471\n",
      "Epoch: 108, Train Loss: 0.5136, Val Acc: 0.6552, Test Acc: 0.7011\n",
      "Epoch: 109, Train Loss: 0.5047, Val Acc: 0.7011, Test Acc: 0.6897\n",
      "Epoch: 110, Train Loss: 0.4835, Val Acc: 0.6552, Test Acc: 0.7011\n",
      "Epoch: 111, Train Loss: 0.4946, Val Acc: 0.6782, Test Acc: 0.7356\n",
      "Epoch: 112, Train Loss: 0.4815, Val Acc: 0.6552, Test Acc: 0.6897\n",
      "Epoch: 113, Train Loss: 0.4903, Val Acc: 0.7011, Test Acc: 0.7356\n",
      "Epoch: 114, Train Loss: 0.4849, Val Acc: 0.7011, Test Acc: 0.7241\n",
      "Epoch: 115, Train Loss: 0.4778, Val Acc: 0.7126, Test Acc: 0.7356\n",
      "Epoch: 116, Train Loss: 0.5121, Val Acc: 0.6437, Test Acc: 0.7011\n",
      "Epoch: 117, Train Loss: 0.5604, Val Acc: 0.6207, Test Acc: 0.7011\n",
      "Epoch: 118, Train Loss: 0.5253, Val Acc: 0.6782, Test Acc: 0.7471\n",
      "Epoch: 119, Train Loss: 0.5062, Val Acc: 0.6897, Test Acc: 0.7356\n",
      "Epoch: 120, Train Loss: 0.4845, Val Acc: 0.6782, Test Acc: 0.7356\n",
      "Epoch: 121, Train Loss: 0.4956, Val Acc: 0.7126, Test Acc: 0.7701\n",
      "Epoch: 122, Train Loss: 0.5224, Val Acc: 0.6552, Test Acc: 0.7011\n",
      "Epoch: 123, Train Loss: 0.4934, Val Acc: 0.6782, Test Acc: 0.7241\n",
      "Epoch: 124, Train Loss: 0.5153, Val Acc: 0.6782, Test Acc: 0.6897\n",
      "Epoch: 125, Train Loss: 0.5000, Val Acc: 0.7241, Test Acc: 0.7356\n",
      "Epoch: 126, Train Loss: 0.4960, Val Acc: 0.7471, Test Acc: 0.7011\n",
      "Epoch: 127, Train Loss: 0.5213, Val Acc: 0.7126, Test Acc: 0.7356\n",
      "Epoch: 128, Train Loss: 0.4981, Val Acc: 0.7241, Test Acc: 0.7356\n",
      "Epoch: 129, Train Loss: 0.4995, Val Acc: 0.7356, Test Acc: 0.7356\n",
      "Epoch: 130, Train Loss: 0.5206, Val Acc: 0.7356, Test Acc: 0.7241\n",
      "Epoch: 131, Train Loss: 0.4793, Val Acc: 0.6667, Test Acc: 0.7241\n",
      "Epoch: 132, Train Loss: 0.4814, Val Acc: 0.7471, Test Acc: 0.7356\n",
      "Epoch: 133, Train Loss: 0.4731, Val Acc: 0.6897, Test Acc: 0.6897\n",
      "Epoch: 134, Train Loss: 0.5016, Val Acc: 0.7011, Test Acc: 0.7586\n",
      "Epoch: 135, Train Loss: 0.5328, Val Acc: 0.7011, Test Acc: 0.7586\n",
      "Epoch: 136, Train Loss: 0.4829, Val Acc: 0.7586, Test Acc: 0.7471\n",
      "Epoch: 137, Train Loss: 0.5010, Val Acc: 0.6897, Test Acc: 0.7356\n",
      "Epoch: 138, Train Loss: 0.5190, Val Acc: 0.6092, Test Acc: 0.7011\n",
      "Epoch: 139, Train Loss: 0.5096, Val Acc: 0.6322, Test Acc: 0.7471\n",
      "Epoch: 140, Train Loss: 0.5131, Val Acc: 0.7126, Test Acc: 0.7126\n",
      "Epoch: 141, Train Loss: 0.4793, Val Acc: 0.7126, Test Acc: 0.7011\n",
      "Epoch: 142, Train Loss: 0.4666, Val Acc: 0.6782, Test Acc: 0.7471\n",
      "Epoch: 143, Train Loss: 0.4900, Val Acc: 0.7011, Test Acc: 0.7586\n",
      "Epoch: 144, Train Loss: 0.4880, Val Acc: 0.7126, Test Acc: 0.7241\n",
      "Epoch: 145, Train Loss: 0.4788, Val Acc: 0.6437, Test Acc: 0.7586\n",
      "Epoch: 146, Train Loss: 0.4759, Val Acc: 0.6322, Test Acc: 0.7241\n",
      "Epoch: 147, Train Loss: 0.4714, Val Acc: 0.7011, Test Acc: 0.7126\n",
      "Epoch: 148, Train Loss: 0.4929, Val Acc: 0.6667, Test Acc: 0.6897\n",
      "Epoch: 149, Train Loss: 0.5170, Val Acc: 0.7126, Test Acc: 0.7471\n",
      "Epoch: 150, Train Loss: 0.5396, Val Acc: 0.7241, Test Acc: 0.7356\n"
     ]
    }
   ],
   "source": [
    "# Define training function\n",
    "def train(epoch):\n",
    "    model.train()\n",
    "    loss_all = 0\n",
    "\n",
    "    for data in train_loader:\n",
    "       \n",
    "        optimizer.zero_grad()\n",
    "        output, ll = model(data.x, data.adj, data.mask)\n",
    "        loss = F.cross_entropy(output, data.y.view(-1))\n",
    "        total_loss = loss + 0.1 * (ll)  # Incorporate auxiliary loss\n",
    "        total_loss.backward()\n",
    "        loss_all += data.y.size(0) * total_loss.item()\n",
    "        optimizer.step()\n",
    "    return loss_all / len(train_dataset)\n",
    "\n",
    "\n",
    "# Define testing function\n",
    "@torch.no_grad()\n",
    "def test(loader):\n",
    "    model.eval()\n",
    "    correct = 0\n",
    "\n",
    "    for data in loader:\n",
    "        \n",
    "        pred = model(data.x, data.adj, data.mask)[0].max(dim=1)[1]\n",
    "        correct += pred.eq(data.y.view(-1)).sum().item()\n",
    "    return correct / len(loader.dataset)\n",
    "\n",
    "\n",
    "# Training loop\n",
    "best_val_acc = test_acc = 0\n",
    "for epoch in range(1, 151):\n",
    "    train_loss = train(epoch)\n",
    "    val_acc = test(val_loader)\n",
    "    test_acc = test(test_loader)\n",
    "    if val_acc > best_val_acc:\n",
    "        \n",
    "        best_val_acc = val_acc\n",
    "        # Save the best model\n",
    "        torch.save(model.state_dict(), \"best_model.pth\")\n",
    "    print(\n",
    "        f\"Epoch: {epoch:03d}, Train Loss: {train_loss:.4f}, \"\n",
    "        f\"Val Acc: {val_acc:.4f}, Test Acc: {test_acc:.4f}\"\n",
    "    )\n"
   ]
  }
 ],
 "metadata": {
  "kernelspec": {
   "display_name": "exp",
   "language": "python",
   "name": "python3"
  },
  "language_info": {
   "codemirror_mode": {
    "name": "ipython",
    "version": 3
   },
   "file_extension": ".py",
   "mimetype": "text/x-python",
   "name": "python",
   "nbconvert_exporter": "python",
   "pygments_lexer": "ipython3",
   "version": "3.12.2"
  }
 },
 "nbformat": 4,
 "nbformat_minor": 2
}
