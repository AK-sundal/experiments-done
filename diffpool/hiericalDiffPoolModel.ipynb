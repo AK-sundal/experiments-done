{
 "cells": [
  {
   "cell_type": "code",
   "execution_count": 1,
   "metadata": {},
   "outputs": [],
   "source": [
    "from torch_geometric.datasets import  TUDataset\n",
    "from torch_geometric.transforms import ToDense\n",
    "from torch_geometric.loader import DenseDataLoader\n",
    "from  torch_geometric.nn import DenseSAGEConv, DenseGCNConv\n",
    "import torch\n",
    "from math import ceil\n",
    "from torch_geometric.nn import dense_diff_pool, GraphNorm\n",
    "import torch.nn.functional as F"
   ]
  },
  {
   "cell_type": "code",
   "execution_count": 2,
   "metadata": {},
   "outputs": [],
   "source": [
    "max_num_nodes =150\n",
    "class Reduce(object):\n",
    "    def __call__(self, data):\n",
    "        return data.num_nodes <= max_num_nodes\n"
   ]
  },
  {
   "cell_type": "code",
   "execution_count": 3,
   "metadata": {},
   "outputs": [
    {
     "name": "stderr",
     "output_type": "stream",
     "text": [
      "Processing...\n",
      "Done!\n"
     ]
    }
   ],
   "source": [
    "dataset = TUDataset(\n",
    "    root=\"data/TUDataset\",\n",
    "    name=\"ENZYMES\",\n",
    "    transform=ToDense(max_num_nodes),\n",
    "    pre_filter=Reduce(),\n",
    "    force_reload=True,\n",
    ")\n"
   ]
  },
  {
   "cell_type": "code",
   "execution_count": 4,
   "metadata": {},
   "outputs": [],
   "source": [
    "# dataset = TUDataset(\n",
    "#     root=\"data/TUDataset\",\n",
    "#     name=\"PROTEINS\",\n",
    "#     force_reload=True\n",
    "# )\n",
    "# len(dataset)\n"
   ]
  },
  {
   "cell_type": "code",
   "execution_count": 5,
   "metadata": {},
   "outputs": [],
   "source": [
    "# max_num_nodes = 0\n",
    "# for data in dataset:\n",
    "#     if data.num_nodes > max_num_nodes:\n",
    "#         max_num_nodes = data.num_nodes\n",
    "# max_num_nodes"
   ]
  },
  {
   "cell_type": "code",
   "execution_count": 6,
   "metadata": {},
   "outputs": [],
   "source": [
    "# dataset = TUDataset(\n",
    "#     root=\"data/TUDataset\",\n",
    "#     name=\"PROTEINS\",\n",
    "#     transform=ToDense(max_num_nodes),\n",
    "#     force_reload=True,\n",
    "# )\n"
   ]
  },
  {
   "cell_type": "code",
   "execution_count": 7,
   "metadata": {},
   "outputs": [
    {
     "data": {
      "text/plain": [
       "600"
      ]
     },
     "execution_count": 7,
     "metadata": {},
     "output_type": "execute_result"
    }
   ],
   "source": [
    "len(dataset)\n",
    "# it did not decresed beacuse\n",
    "#  i took max num nodes in dataset for computing ToDense\n",
    "#  so need prefilter\n"
   ]
  },
  {
   "cell_type": "code",
   "execution_count": 8,
   "metadata": {},
   "outputs": [],
   "source": [
    "dataset = dataset.shuffle()\n"
   ]
  },
  {
   "cell_type": "code",
   "execution_count": 9,
   "metadata": {},
   "outputs": [
    {
     "data": {
      "text/plain": [
       "120"
      ]
     },
     "execution_count": 9,
     "metadata": {},
     "output_type": "execute_result"
    }
   ],
   "source": [
    "\n",
    "test_dataset = dataset[:int(0.2*len(dataset))]\n",
    "len(test_dataset)\n"
   ]
  },
  {
   "cell_type": "code",
   "execution_count": 10,
   "metadata": {},
   "outputs": [
    {
     "data": {
      "text/plain": [
       "120"
      ]
     },
     "execution_count": 10,
     "metadata": {},
     "output_type": "execute_result"
    }
   ],
   "source": [
    "val_dataset = dataset[len(test_dataset) : int(0.4 *len(dataset))]\n",
    "len(val_dataset)"
   ]
  },
  {
   "cell_type": "code",
   "execution_count": 11,
   "metadata": {},
   "outputs": [
    {
     "data": {
      "text/plain": [
       "360"
      ]
     },
     "execution_count": 11,
     "metadata": {},
     "output_type": "execute_result"
    }
   ],
   "source": [
    "train_dataset = dataset[len(val_dataset)+len(test_dataset):]\n",
    "len(train_dataset)"
   ]
  },
  {
   "cell_type": "code",
   "execution_count": 12,
   "metadata": {},
   "outputs": [],
   "source": [
    "test_loader = DenseDataLoader(test_dataset, batch_size=32)\n",
    "val_loader = DenseDataLoader(val_dataset, batch_size=32)\n",
    "train_loader = DenseDataLoader(train_dataset, batch_size=32)\n"
   ]
  },
  {
   "cell_type": "code",
   "execution_count": 13,
   "metadata": {},
   "outputs": [],
   "source": [
    "class GNNMODULE(torch.nn.Module):\n",
    "    def __init__(\n",
    "        self,\n",
    "        _in,\n",
    "        _hidden,\n",
    "        _num_layer,\n",
    "        _out,\n",
    "    ):\n",
    "        super().__init__()\n",
    "        self.gnn = torch.nn.ModuleList()\n",
    "        self.graph_norm = torch.nn.ModuleList()\n",
    "        if _num_layer == 1:\n",
    "            self.gnn.append(DenseGCNConv(_in, _out))\n",
    "            self.graph_norm.append(GraphNorm(_out))\n",
    "        else:\n",
    "            self.gnn.append(DenseGCNConv(_in, _hidden))\n",
    "            self.graph_norm.append(GraphNorm(_hidden))\n",
    "            for _ in range(_num_layer - 2):\n",
    "                self.gnn.append(DenseGCNConv(_hidden, _hidden))\n",
    "                self.graph_norm.append(GraphNorm(_hidden))\n",
    "            self.gnn.append(DenseGCNConv(_hidden, _out))\n",
    "            self.graph_norm.append(GraphNorm(_out))\n",
    "        self.num_layer = _num_layer\n",
    "\n",
    "    def forward(self, x, adj):\n",
    "        for i in range(self.num_layer):\n",
    "            x = F.relu(self.graph_norm[i](self.gnn[i](x, adj)))\n",
    "\n",
    "        return x"
   ]
  },
  {
   "cell_type": "code",
   "execution_count": 14,
   "metadata": {},
   "outputs": [],
   "source": [
    "class DiFFPooLMODEL(torch.nn.Module):\n",
    "    def __init__(self, _in, _hidden, _out):\n",
    "        super().__init__()\n",
    "\n",
    "        self.gnn_in = GNNMODULE(_in, _hidden, 1, _hidden)\n",
    "\n",
    "        self.gnn_emb_1 = GNNMODULE(_hidden, _hidden, 2, _hidden)\n",
    "        num_nodes = ceil(0.25 * max_num_nodes)\n",
    "        self.gnn_pool_1 = GNNMODULE(_hidden, _hidden, 2, num_nodes)\n",
    "\n",
    "        self.gnn_mid = GNNMODULE(_hidden, _hidden, 1, _hidden)\n",
    "\n",
    "        self.gnn_emb_2 = GNNMODULE(_hidden, _hidden, 2, _hidden)\n",
    "        num_nodes = ceil(0.25 * num_nodes)\n",
    "        self.gnn_pool_2 = GNNMODULE(_hidden, _hidden, 2, num_nodes)\n",
    "\n",
    "        self.gnn_out = GNNMODULE(_hidden, _hidden, 1, _hidden)\n",
    "\n",
    "        self.lin_1 = torch.nn.Linear(_hidden, _hidden)\n",
    "        self.lin_2 = torch.nn.Linear(_hidden, _out)\n",
    "        self.bns = torch.nn.BatchNorm1d(_hidden)\n",
    "\n",
    "    def forward(self, x, adj, mask):\n",
    "        x = self.gnn_in(x, adj)\n",
    "\n",
    "        s = self.gnn_pool_1(x, adj)\n",
    "        x = self.gnn_emb_1(x, adj)\n",
    "        x, adj, llp_1, le_1 = dense_diff_pool(x, adj, s, mask)\n",
    "\n",
    "        x = self.gnn_mid(x, adj)\n",
    "\n",
    "        s = self.gnn_pool_2(x, adj)\n",
    "        x = self.gnn_emb_2(x, adj)\n",
    "        x, adj, llp_2, le_2 = dense_diff_pool(x, adj, s)\n",
    "\n",
    "        x = self.gnn_out(x, adj)\n",
    "        x = x.mean(dim=1)\n",
    "\n",
    "        # x = F.relu(x)\n",
    "        # x = F.dropout(x, p=0.3)\n",
    "        x = (self.lin_1(x))\n",
    "        x = F.relu(x)\n",
    "        # x = F.dropout(x, p=0.3)\n",
    "        x = self.lin_2(x)\n",
    "        x = F.softmax(x, dim=-1)\n",
    "        # print(x.shape)\n",
    "        return x, llp_1 + le_1 + llp_2 + le_2\n"
   ]
  },
  {
   "cell_type": "code",
   "execution_count": 15,
   "metadata": {},
   "outputs": [],
   "source": [
    "model = DiFFPooLMODEL(dataset.num_features, 64, dataset.num_classes)\n",
    "optimizer = torch.optim.Adam(model.parameters(), lr=0.01)\n"
   ]
  },
  {
   "cell_type": "code",
   "execution_count": 16,
   "metadata": {},
   "outputs": [
    {
     "name": "stdout",
     "output_type": "stream",
     "text": [
      "Epoch: 001, Train Loss: 1.8064, Val Acc: 0.1667, Test Acc: 0.2417\n",
      "Epoch: 002, Train Loss: 1.7745, Val Acc: 0.2583, Test Acc: 0.2833\n",
      "Epoch: 003, Train Loss: 1.7670, Val Acc: 0.2167, Test Acc: 0.3083\n",
      "Epoch: 004, Train Loss: 1.7434, Val Acc: 0.2167, Test Acc: 0.2583\n",
      "Epoch: 005, Train Loss: 1.7260, Val Acc: 0.2417, Test Acc: 0.2917\n",
      "Epoch: 006, Train Loss: 1.7258, Val Acc: 0.2500, Test Acc: 0.2583\n",
      "Epoch: 007, Train Loss: 1.7324, Val Acc: 0.2333, Test Acc: 0.2833\n",
      "Epoch: 008, Train Loss: 1.6948, Val Acc: 0.2333, Test Acc: 0.3000\n",
      "Epoch: 009, Train Loss: 1.6836, Val Acc: 0.2500, Test Acc: 0.2667\n",
      "Epoch: 010, Train Loss: 1.6832, Val Acc: 0.2750, Test Acc: 0.3333\n",
      "Epoch: 011, Train Loss: 1.6758, Val Acc: 0.1917, Test Acc: 0.3000\n",
      "Epoch: 012, Train Loss: 1.6574, Val Acc: 0.2250, Test Acc: 0.3083\n",
      "Epoch: 013, Train Loss: 1.6614, Val Acc: 0.2667, Test Acc: 0.2583\n",
      "Epoch: 014, Train Loss: 1.6723, Val Acc: 0.2500, Test Acc: 0.3083\n",
      "Epoch: 015, Train Loss: 1.6424, Val Acc: 0.2167, Test Acc: 0.3250\n",
      "Epoch: 016, Train Loss: 1.6570, Val Acc: 0.2583, Test Acc: 0.3250\n",
      "Epoch: 017, Train Loss: 1.6185, Val Acc: 0.2500, Test Acc: 0.2833\n",
      "Epoch: 018, Train Loss: 1.6241, Val Acc: 0.2417, Test Acc: 0.2750\n",
      "Epoch: 019, Train Loss: 1.6540, Val Acc: 0.2333, Test Acc: 0.2667\n",
      "Epoch: 020, Train Loss: 1.6733, Val Acc: 0.2417, Test Acc: 0.2667\n",
      "Epoch: 021, Train Loss: 1.6402, Val Acc: 0.3000, Test Acc: 0.3583\n",
      "Epoch: 022, Train Loss: 1.6777, Val Acc: 0.3333, Test Acc: 0.3333\n",
      "Epoch: 023, Train Loss: 1.6655, Val Acc: 0.2667, Test Acc: 0.3250\n",
      "Epoch: 024, Train Loss: 1.6680, Val Acc: 0.2667, Test Acc: 0.3083\n",
      "Epoch: 025, Train Loss: 1.6592, Val Acc: 0.2833, Test Acc: 0.2917\n",
      "Epoch: 026, Train Loss: 1.6235, Val Acc: 0.2750, Test Acc: 0.2500\n",
      "Epoch: 027, Train Loss: 1.6211, Val Acc: 0.3250, Test Acc: 0.2583\n",
      "Epoch: 028, Train Loss: 1.6902, Val Acc: 0.2833, Test Acc: 0.2417\n",
      "Epoch: 029, Train Loss: 1.7331, Val Acc: 0.2417, Test Acc: 0.2750\n",
      "Epoch: 030, Train Loss: 1.7057, Val Acc: 0.3333, Test Acc: 0.2167\n",
      "Epoch: 031, Train Loss: 1.6909, Val Acc: 0.2167, Test Acc: 0.2417\n",
      "Epoch: 032, Train Loss: 1.6785, Val Acc: 0.2000, Test Acc: 0.2833\n",
      "Epoch: 033, Train Loss: 1.6574, Val Acc: 0.2583, Test Acc: 0.2917\n",
      "Epoch: 034, Train Loss: 1.6506, Val Acc: 0.2083, Test Acc: 0.2583\n",
      "Epoch: 035, Train Loss: 1.6371, Val Acc: 0.2583, Test Acc: 0.2833\n",
      "Epoch: 036, Train Loss: 1.6299, Val Acc: 0.2250, Test Acc: 0.3167\n",
      "Epoch: 037, Train Loss: 1.6416, Val Acc: 0.2167, Test Acc: 0.2667\n",
      "Epoch: 038, Train Loss: 1.6417, Val Acc: 0.2917, Test Acc: 0.3417\n",
      "Epoch: 039, Train Loss: 1.6009, Val Acc: 0.3417, Test Acc: 0.3333\n",
      "Epoch: 040, Train Loss: 1.6044, Val Acc: 0.3583, Test Acc: 0.3167\n",
      "Epoch: 041, Train Loss: 1.6037, Val Acc: 0.3083, Test Acc: 0.3083\n",
      "Epoch: 042, Train Loss: 1.5660, Val Acc: 0.3250, Test Acc: 0.2917\n",
      "Epoch: 043, Train Loss: 1.5817, Val Acc: 0.3000, Test Acc: 0.2833\n",
      "Epoch: 044, Train Loss: 1.5383, Val Acc: 0.2833, Test Acc: 0.3167\n",
      "Epoch: 045, Train Loss: 1.5841, Val Acc: 0.2833, Test Acc: 0.3750\n",
      "Epoch: 046, Train Loss: 1.5866, Val Acc: 0.2917, Test Acc: 0.3667\n",
      "Epoch: 047, Train Loss: 1.5764, Val Acc: 0.2833, Test Acc: 0.3333\n",
      "Epoch: 048, Train Loss: 1.5789, Val Acc: 0.2833, Test Acc: 0.3250\n",
      "Epoch: 049, Train Loss: 1.5743, Val Acc: 0.2667, Test Acc: 0.2917\n",
      "Epoch: 050, Train Loss: 1.6039, Val Acc: 0.2833, Test Acc: 0.3417\n",
      "Epoch: 051, Train Loss: 1.5748, Val Acc: 0.3000, Test Acc: 0.3500\n",
      "Epoch: 052, Train Loss: 1.5970, Val Acc: 0.3167, Test Acc: 0.3417\n",
      "Epoch: 053, Train Loss: 1.5872, Val Acc: 0.3000, Test Acc: 0.3250\n",
      "Epoch: 054, Train Loss: 1.5786, Val Acc: 0.2917, Test Acc: 0.3500\n",
      "Epoch: 055, Train Loss: 1.5986, Val Acc: 0.2917, Test Acc: 0.3333\n",
      "Epoch: 056, Train Loss: 1.5774, Val Acc: 0.3167, Test Acc: 0.3417\n",
      "Epoch: 057, Train Loss: 1.5799, Val Acc: 0.3250, Test Acc: 0.3417\n",
      "Epoch: 058, Train Loss: 1.5604, Val Acc: 0.2333, Test Acc: 0.3583\n",
      "Epoch: 059, Train Loss: 1.5466, Val Acc: 0.2750, Test Acc: 0.3417\n",
      "Epoch: 060, Train Loss: 1.5468, Val Acc: 0.2750, Test Acc: 0.2917\n",
      "Epoch: 061, Train Loss: 1.5557, Val Acc: 0.3167, Test Acc: 0.3583\n",
      "Epoch: 062, Train Loss: 1.5722, Val Acc: 0.2500, Test Acc: 0.2417\n",
      "Epoch: 063, Train Loss: 1.5762, Val Acc: 0.3250, Test Acc: 0.3250\n",
      "Epoch: 064, Train Loss: 1.5703, Val Acc: 0.3083, Test Acc: 0.3083\n",
      "Epoch: 065, Train Loss: 1.5372, Val Acc: 0.3333, Test Acc: 0.3083\n",
      "Epoch: 066, Train Loss: 1.5530, Val Acc: 0.3167, Test Acc: 0.2833\n",
      "Epoch: 067, Train Loss: 1.5869, Val Acc: 0.3333, Test Acc: 0.2917\n",
      "Epoch: 068, Train Loss: 1.5901, Val Acc: 0.3167, Test Acc: 0.3167\n",
      "Epoch: 069, Train Loss: 1.5901, Val Acc: 0.2917, Test Acc: 0.3083\n",
      "Epoch: 070, Train Loss: 1.5678, Val Acc: 0.3083, Test Acc: 0.2917\n",
      "Epoch: 071, Train Loss: 1.5725, Val Acc: 0.2833, Test Acc: 0.3250\n",
      "Epoch: 072, Train Loss: 1.5557, Val Acc: 0.2917, Test Acc: 0.2833\n",
      "Epoch: 073, Train Loss: 1.5757, Val Acc: 0.2583, Test Acc: 0.3000\n",
      "Epoch: 074, Train Loss: 1.5911, Val Acc: 0.3167, Test Acc: 0.3333\n",
      "Epoch: 075, Train Loss: 1.5621, Val Acc: 0.2917, Test Acc: 0.2500\n",
      "Epoch: 076, Train Loss: 1.5611, Val Acc: 0.3000, Test Acc: 0.2333\n",
      "Epoch: 077, Train Loss: 1.5516, Val Acc: 0.3083, Test Acc: 0.2250\n",
      "Epoch: 078, Train Loss: 1.5299, Val Acc: 0.3083, Test Acc: 0.2917\n",
      "Epoch: 079, Train Loss: 1.5612, Val Acc: 0.3000, Test Acc: 0.3000\n",
      "Epoch: 080, Train Loss: 1.5635, Val Acc: 0.3083, Test Acc: 0.3000\n",
      "Epoch: 081, Train Loss: 1.5293, Val Acc: 0.3417, Test Acc: 0.2917\n",
      "Epoch: 082, Train Loss: 1.5494, Val Acc: 0.3167, Test Acc: 0.3000\n",
      "Epoch: 083, Train Loss: 1.5631, Val Acc: 0.3250, Test Acc: 0.3167\n",
      "Epoch: 084, Train Loss: 1.5718, Val Acc: 0.3250, Test Acc: 0.3167\n",
      "Epoch: 085, Train Loss: 1.6199, Val Acc: 0.2833, Test Acc: 0.3417\n",
      "Epoch: 086, Train Loss: 1.5891, Val Acc: 0.3333, Test Acc: 0.3000\n",
      "Epoch: 087, Train Loss: 1.5991, Val Acc: 0.3167, Test Acc: 0.3167\n",
      "Epoch: 088, Train Loss: 1.5632, Val Acc: 0.3583, Test Acc: 0.3417\n",
      "Epoch: 089, Train Loss: 1.5533, Val Acc: 0.3167, Test Acc: 0.3333\n",
      "Epoch: 090, Train Loss: 1.5480, Val Acc: 0.3000, Test Acc: 0.2583\n",
      "Epoch: 091, Train Loss: 1.5693, Val Acc: 0.2667, Test Acc: 0.2667\n",
      "Epoch: 092, Train Loss: 1.5745, Val Acc: 0.3083, Test Acc: 0.3250\n",
      "Epoch: 093, Train Loss: 1.6126, Val Acc: 0.2417, Test Acc: 0.3000\n",
      "Epoch: 094, Train Loss: 1.6603, Val Acc: 0.2750, Test Acc: 0.3417\n",
      "Epoch: 095, Train Loss: 1.6522, Val Acc: 0.3000, Test Acc: 0.3333\n",
      "Epoch: 096, Train Loss: 1.6606, Val Acc: 0.2833, Test Acc: 0.3167\n",
      "Epoch: 097, Train Loss: 1.6539, Val Acc: 0.2667, Test Acc: 0.3000\n",
      "Epoch: 098, Train Loss: 1.6488, Val Acc: 0.2500, Test Acc: 0.3583\n",
      "Epoch: 099, Train Loss: 1.6413, Val Acc: 0.2917, Test Acc: 0.3583\n",
      "Epoch: 100, Train Loss: 1.6352, Val Acc: 0.3250, Test Acc: 0.3333\n",
      "Epoch: 101, Train Loss: 1.6089, Val Acc: 0.3250, Test Acc: 0.3500\n",
      "Epoch: 102, Train Loss: 1.6005, Val Acc: 0.3167, Test Acc: 0.3333\n",
      "Epoch: 103, Train Loss: 1.6055, Val Acc: 0.3167, Test Acc: 0.3167\n",
      "Epoch: 104, Train Loss: 1.6011, Val Acc: 0.3583, Test Acc: 0.3250\n",
      "Epoch: 105, Train Loss: 1.5899, Val Acc: 0.3333, Test Acc: 0.3167\n",
      "Epoch: 106, Train Loss: 1.5893, Val Acc: 0.3500, Test Acc: 0.3333\n",
      "Epoch: 107, Train Loss: 1.5770, Val Acc: 0.3750, Test Acc: 0.3250\n",
      "Epoch: 108, Train Loss: 1.5799, Val Acc: 0.3333, Test Acc: 0.3083\n",
      "Epoch: 109, Train Loss: 1.5705, Val Acc: 0.3583, Test Acc: 0.3750\n",
      "Epoch: 110, Train Loss: 1.5556, Val Acc: 0.2917, Test Acc: 0.3500\n",
      "Epoch: 111, Train Loss: 1.5271, Val Acc: 0.3417, Test Acc: 0.3417\n",
      "Epoch: 112, Train Loss: 1.5158, Val Acc: 0.3250, Test Acc: 0.3583\n",
      "Epoch: 113, Train Loss: 1.5097, Val Acc: 0.3333, Test Acc: 0.3250\n",
      "Epoch: 114, Train Loss: 1.5262, Val Acc: 0.3167, Test Acc: 0.2917\n",
      "Epoch: 115, Train Loss: 1.5276, Val Acc: 0.3167, Test Acc: 0.3167\n",
      "Epoch: 116, Train Loss: 1.5283, Val Acc: 0.2833, Test Acc: 0.3250\n",
      "Epoch: 117, Train Loss: 1.5235, Val Acc: 0.2833, Test Acc: 0.3417\n",
      "Epoch: 118, Train Loss: 1.5295, Val Acc: 0.3250, Test Acc: 0.3417\n",
      "Epoch: 119, Train Loss: 1.5381, Val Acc: 0.3000, Test Acc: 0.2417\n",
      "Epoch: 120, Train Loss: 1.5176, Val Acc: 0.3167, Test Acc: 0.2583\n",
      "Epoch: 121, Train Loss: 1.5163, Val Acc: 0.3333, Test Acc: 0.2583\n",
      "Epoch: 122, Train Loss: 1.4724, Val Acc: 0.3083, Test Acc: 0.3000\n",
      "Epoch: 123, Train Loss: 1.4848, Val Acc: 0.3167, Test Acc: 0.2917\n",
      "Epoch: 124, Train Loss: 1.4724, Val Acc: 0.3417, Test Acc: 0.2833\n",
      "Epoch: 125, Train Loss: 1.4884, Val Acc: 0.3417, Test Acc: 0.2917\n",
      "Epoch: 126, Train Loss: 1.4867, Val Acc: 0.3417, Test Acc: 0.2750\n",
      "Epoch: 127, Train Loss: 1.4723, Val Acc: 0.3500, Test Acc: 0.3417\n",
      "Epoch: 128, Train Loss: 1.4754, Val Acc: 0.3667, Test Acc: 0.3500\n",
      "Epoch: 129, Train Loss: 1.4843, Val Acc: 0.3917, Test Acc: 0.3583\n",
      "Epoch: 130, Train Loss: 1.5080, Val Acc: 0.3583, Test Acc: 0.3500\n",
      "Epoch: 131, Train Loss: 1.5191, Val Acc: 0.3750, Test Acc: 0.3250\n",
      "Epoch: 132, Train Loss: 1.5328, Val Acc: 0.3417, Test Acc: 0.3333\n",
      "Epoch: 133, Train Loss: 1.5186, Val Acc: 0.3833, Test Acc: 0.3333\n",
      "Epoch: 134, Train Loss: 1.5657, Val Acc: 0.3250, Test Acc: 0.3417\n",
      "Epoch: 135, Train Loss: 1.6238, Val Acc: 0.2500, Test Acc: 0.3667\n",
      "Epoch: 136, Train Loss: 1.6402, Val Acc: 0.2333, Test Acc: 0.3750\n",
      "Epoch: 137, Train Loss: 1.6615, Val Acc: 0.2500, Test Acc: 0.3917\n",
      "Epoch: 138, Train Loss: 1.6458, Val Acc: 0.2583, Test Acc: 0.3500\n",
      "Epoch: 139, Train Loss: 1.6884, Val Acc: 0.2333, Test Acc: 0.2917\n",
      "Epoch: 140, Train Loss: 1.6621, Val Acc: 0.2417, Test Acc: 0.3250\n",
      "Epoch: 141, Train Loss: 1.6628, Val Acc: 0.2417, Test Acc: 0.3500\n",
      "Epoch: 142, Train Loss: 1.6489, Val Acc: 0.2500, Test Acc: 0.3083\n",
      "Epoch: 143, Train Loss: 1.6605, Val Acc: 0.2417, Test Acc: 0.3333\n",
      "Epoch: 144, Train Loss: 1.6191, Val Acc: 0.2833, Test Acc: 0.3250\n",
      "Epoch: 145, Train Loss: 1.6427, Val Acc: 0.2667, Test Acc: 0.3583\n",
      "Epoch: 146, Train Loss: 1.6500, Val Acc: 0.3000, Test Acc: 0.3333\n",
      "Epoch: 147, Train Loss: 1.6649, Val Acc: 0.3000, Test Acc: 0.3417\n",
      "Epoch: 148, Train Loss: 1.6484, Val Acc: 0.3083, Test Acc: 0.3333\n",
      "Epoch: 149, Train Loss: 1.6376, Val Acc: 0.2917, Test Acc: 0.3417\n",
      "Epoch: 150, Train Loss: 1.6284, Val Acc: 0.2917, Test Acc: 0.3250\n"
     ]
    }
   ],
   "source": [
    "# Define training function\n",
    "def train(epoch):\n",
    "    model.train()\n",
    "    loss_all = 0\n",
    "\n",
    "    for data in train_loader:\n",
    "       \n",
    "        optimizer.zero_grad()\n",
    "        output, ll = model(data.x, data.adj, data.mask)\n",
    "        loss = F.cross_entropy(output, data.y.view(-1))\n",
    "        total_loss = loss + 0.01 * (ll)  # Incorporate auxiliary loss\n",
    "        total_loss.backward()\n",
    "        loss_all += data.y.size(0) * total_loss.item()\n",
    "        optimizer.step()\n",
    "    return loss_all / len(train_dataset)\n",
    "\n",
    "\n",
    "# Define testing function\n",
    "@torch.no_grad()\n",
    "def test(loader):\n",
    "    model.eval()\n",
    "    correct = 0\n",
    "\n",
    "    for data in loader:\n",
    "        \n",
    "        pred = model(data.x, data.adj, data.mask)[0].max(dim=1)[1]\n",
    "        correct += pred.eq(data.y.view(-1)).sum().item()\n",
    "    return correct / len(loader.dataset)\n",
    "\n",
    "\n",
    "# Training loop\n",
    "best_val_acc = test_acc = 0\n",
    "for epoch in range(1, 151):\n",
    "    train_loss = train(epoch)\n",
    "    val_acc = test(val_loader)\n",
    "    test_acc = test(test_loader)\n",
    "    if val_acc > best_val_acc:\n",
    "        \n",
    "        best_val_acc = val_acc\n",
    "        # Save the best model\n",
    "        torch.save(model.state_dict(), \"best_model.pth\")\n",
    "    print(\n",
    "        f\"Epoch: {epoch:03d}, Train Loss: {train_loss:.4f}, \"\n",
    "        f\"Val Acc: {val_acc:.4f}, Test Acc: {test_acc:.4f}\"\n",
    "    )\n"
   ]
  }
 ],
 "metadata": {
  "kernelspec": {
   "display_name": "exp",
   "language": "python",
   "name": "python3"
  },
  "language_info": {
   "codemirror_mode": {
    "name": "ipython",
    "version": 3
   },
   "file_extension": ".py",
   "mimetype": "text/x-python",
   "name": "python",
   "nbconvert_exporter": "python",
   "pygments_lexer": "ipython3",
   "version": "3.12.2"
  }
 },
 "nbformat": 4,
 "nbformat_minor": 2
}
