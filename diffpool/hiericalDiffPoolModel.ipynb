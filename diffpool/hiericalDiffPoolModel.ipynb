{
 "cells": [
  {
   "cell_type": "code",
   "execution_count": null,
   "metadata": {},
   "outputs": [],
   "source": [
    "from torch_geometric.datasets import  TUDataset\n",
    "from torch_geometric.transforms import ToDense\n",
    "from torch_geometric.loader import DenseDataLoader\n",
    "from  torch_geometric.nn import DenseSAGEConv\n",
    "import torch\n",
    "from math import ceil\n",
    "from torch_geometric.nn import dense_diff_pool, GraphNorm\n",
    "import torch.nn.functional as F"
   ]
  },
  {
   "cell_type": "code",
   "execution_count": null,
   "metadata": {},
   "outputs": [],
   "source": [
    "max_num_nodes =50\n",
    "class Reduce(object):\n",
    "    def __call__(self, data):\n",
    "        return data.num_nodes <= max_num_nodes\n"
   ]
  },
  {
   "cell_type": "code",
   "execution_count": null,
   "metadata": {},
   "outputs": [],
   "source": [
    "dataset = TUDataset(\n",
    "    root=\"data/TUDataset\",\n",
    "    name=\"PROTEINS\",\n",
    "    transform=ToDense(max_num_nodes),\n",
    "    pre_filter=Reduce(),\n",
    "    force_reload=True,\n",
    ")\n"
   ]
  },
  {
   "cell_type": "code",
   "execution_count": null,
   "metadata": {},
   "outputs": [],
   "source": [
    "# dataset = TUDataset(\n",
    "#     root=\"data/TUDataset\",\n",
    "#     name=\"PROTEINS\",\n",
    "#     force_reload=True\n",
    "# )\n",
    "# len(dataset)\n"
   ]
  },
  {
   "cell_type": "code",
   "execution_count": null,
   "metadata": {},
   "outputs": [],
   "source": [
    "# max_num_nodes = 0\n",
    "# for data in dataset:\n",
    "#     if data.num_nodes > max_num_nodes:\n",
    "#         max_num_nodes = data.num_nodes\n",
    "# max_num_nodes"
   ]
  },
  {
   "cell_type": "code",
   "execution_count": null,
   "metadata": {},
   "outputs": [],
   "source": [
    "# dataset = TUDataset(\n",
    "#     root=\"data/TUDataset\",\n",
    "#     name=\"PROTEINS\",\n",
    "#     transform=ToDense(max_num_nodes),\n",
    "#     force_reload=True,\n",
    "# )\n"
   ]
  },
  {
   "cell_type": "code",
   "execution_count": null,
   "metadata": {},
   "outputs": [],
   "source": [
    "len(dataset)\n",
    "# it did not decresed beacuse\n",
    "#  i took max num nodes in dataset for computing ToDense\n",
    "#  so need prefilter\n"
   ]
  },
  {
   "cell_type": "code",
   "execution_count": null,
   "metadata": {},
   "outputs": [],
   "source": [
    "dataset = dataset.shuffle()\n"
   ]
  },
  {
   "cell_type": "code",
   "execution_count": null,
   "metadata": {},
   "outputs": [],
   "source": [
    "\n",
    "test_dataset = dataset[:int(0.1*len(dataset))]\n",
    "len(test_dataset)\n"
   ]
  },
  {
   "cell_type": "code",
   "execution_count": null,
   "metadata": {},
   "outputs": [],
   "source": [
    "val_dataset = dataset[len(test_dataset) : int(0.2 *len(dataset))]\n",
    "len(val_dataset)"
   ]
  },
  {
   "cell_type": "code",
   "execution_count": null,
   "metadata": {},
   "outputs": [],
   "source": [
    "train_dataset = dataset[len(val_dataset)+len(test_dataset):]\n",
    "len(train_dataset)"
   ]
  },
  {
   "cell_type": "code",
   "execution_count": null,
   "metadata": {},
   "outputs": [],
   "source": [
    "test_loader = DenseDataLoader(test_dataset, batch_size=32)\n",
    "val_loader = DenseDataLoader(val_dataset, batch_size=32)\n",
    "train_loader = DenseDataLoader(train_dataset, batch_size=32)\n"
   ]
  },
  {
   "cell_type": "code",
   "execution_count": null,
   "metadata": {},
   "outputs": [],
   "source": [
    "class GNNMODULE(torch.nn.Module):\n",
    "    def __init__(\n",
    "        self,\n",
    "        _in,\n",
    "        _hidden,\n",
    "        _num_layer,\n",
    "        _out,\n",
    "    ):\n",
    "        super().__init__()\n",
    "        self.gnn = torch.nn.ModuleList()\n",
    "        self.graph_norm = torch.nn.ModuleList()\n",
    "        if _num_layer == 1:\n",
    "            self.gnn.append(DenseSAGEConv(_in, _out))\n",
    "            self.graph_norm.append(GraphNorm(_out))\n",
    "        else:\n",
    "            self.gnn.append(DenseSAGEConv(_in, _hidden))\n",
    "            self.graph_norm.append(GraphNorm(_hidden))\n",
    "            for _ in range(_num_layer - 2):\n",
    "                self.gnn.append(DenseSAGEConv(_hidden, _hidden))\n",
    "                self.graph_norm.append(GraphNorm(_hidden))\n",
    "            self.gnn.append(DenseSAGEConv(_hidden, _out))\n",
    "            self.graph_norm.append(GraphNorm(_out))\n",
    "        self.num_layer = _num_layer\n",
    "\n",
    "    def forward(self, x, adj):\n",
    "        for i in range(self.num_layer):\n",
    "            x = F.relu(self.graph_norm[i](self.gnn[i](x, adj)))\n",
    "\n",
    "        return x"
   ]
  },
  {
   "cell_type": "code",
   "execution_count": null,
   "metadata": {},
   "outputs": [],
   "source": [
    "class DiFFPooLMODEL(torch.nn.Module):\n",
    "    def __init__(self, _in, _hidden, _out):\n",
    "        super().__init__()\n",
    "\n",
    "        self.gnn_in = GNNMODULE(_in, _hidden, 1, _hidden)\n",
    "\n",
    "        self.gnn_emb_1 = GNNMODULE(_hidden, _hidden, 2, _hidden)\n",
    "        num_nodes = ceil(0.25 * max_num_nodes)\n",
    "        self.gnn_pool_1 = GNNMODULE(_hidden, _hidden, 2, num_nodes)\n",
    "\n",
    "        self.gnn_mid = GNNMODULE(_hidden, _hidden, 1, _hidden)\n",
    "\n",
    "        self.gnn_emb_2 = GNNMODULE(_hidden, _hidden, 2, _hidden)\n",
    "        num_nodes = ceil(0.25 * num_nodes)\n",
    "        self.gnn_pool_2 = GNNMODULE(_hidden, _hidden, 2, num_nodes)\n",
    "\n",
    "        self.gnn_out = GNNMODULE(_hidden, _hidden, 1, _hidden)\n",
    "\n",
    "        self.lin_1 = torch.nn.Linear(_hidden, _hidden)\n",
    "        self.lin_2 = torch.nn.Linear(_hidden, _out)\n",
    "        self.bns = torch.nn.BatchNorm1d(_hidden)\n",
    "\n",
    "    def forward(self, x, adj, mask):\n",
    "        x = self.gnn_in(x, adj)\n",
    "\n",
    "        s = self.gnn_pool_1(x, adj)\n",
    "        x = self.gnn_emb_1(x, adj)\n",
    "        x, adj, llp_1, le_1 = dense_diff_pool(x, adj, s, mask)\n",
    "\n",
    "        x = self.gnn_mid(x, adj)\n",
    "\n",
    "        s = self.gnn_pool_2(x, adj)\n",
    "        x = self.gnn_emb_2(x, adj)\n",
    "        x, adj, llp_2, le_2 = dense_diff_pool(x, adj, s)\n",
    "\n",
    "        x = self.gnn_out(x, adj)\n",
    "        x = x.mean(dim=1)\n",
    "\n",
    "        # x = F.relu(x)\n",
    "        # x = F.dropout(x, p=0.3)\n",
    "        x = self.bns(self.lin_1(x))\n",
    "        x = F.relu(x)\n",
    "        # x = F.dropout(x, p=0.3)\n",
    "        x = self.lin_2(x)\n",
    "        x = F.softmax(x, dim=-1)\n",
    "        # print(x.shape)\n",
    "        return x, llp_1 + le_1 + llp_2 + le_2\n"
   ]
  },
  {
   "cell_type": "code",
   "execution_count": null,
   "metadata": {},
   "outputs": [],
   "source": [
    "model = DiFFPooLMODEL(dataset.num_features, 64, dataset.num_classes)\n",
    "optimizer = torch.optim.Adam(model.parameters(), lr=0.01)\n"
   ]
  },
  {
   "cell_type": "code",
   "execution_count": null,
   "metadata": {},
   "outputs": [],
   "source": [
    "# Define training function\n",
    "def train(epoch):\n",
    "    model.train()\n",
    "    loss_all = 0\n",
    "\n",
    "    for data in train_loader:\n",
    "       \n",
    "        optimizer.zero_grad()\n",
    "        output, ll = model(data.x, data.adj, data.mask)\n",
    "        loss = F.cross_entropy(output, data.y.view(-1))\n",
    "        total_loss = loss + 0.1 * (ll)  # Incorporate auxiliary loss\n",
    "        total_loss.backward()\n",
    "        loss_all += data.y.size(0) * total_loss.item()\n",
    "        optimizer.step()\n",
    "    return loss_all / len(train_dataset)\n",
    "\n",
    "\n",
    "# Define testing function\n",
    "@torch.no_grad()\n",
    "def test(loader):\n",
    "    model.eval()\n",
    "    correct = 0\n",
    "\n",
    "    for data in loader:\n",
    "        \n",
    "        pred = model(data.x, data.adj, data.mask)[0].max(dim=1)[1]\n",
    "        correct += pred.eq(data.y.view(-1)).sum().item()\n",
    "    return correct / len(loader.dataset)\n",
    "\n",
    "\n",
    "# Training loop\n",
    "best_val_acc = test_acc = 0\n",
    "for epoch in range(1, 151):\n",
    "    train_loss = train(epoch)\n",
    "    val_acc = test(val_loader)\n",
    "    test_acc = test(test_loader)\n",
    "    if val_acc > best_val_acc:\n",
    "        \n",
    "        best_val_acc = val_acc\n",
    "        # Save the best model\n",
    "        torch.save(model.state_dict(), \"best_model.pth\")\n",
    "    print(\n",
    "        f\"Epoch: {epoch:03d}, Train Loss: {train_loss:.4f}, \"\n",
    "        f\"Val Acc: {val_acc:.4f}, Test Acc: {test_acc:.4f}\"\n",
    "    )\n"
   ]
  }
 ],
 "metadata": {
  "kernelspec": {
   "display_name": "exp",
   "language": "python",
   "name": "python3"
  },
  "language_info": {
   "codemirror_mode": {
    "name": "ipython",
    "version": 3
   },
   "file_extension": ".py",
   "mimetype": "text/x-python",
   "name": "python",
   "nbconvert_exporter": "python",
   "pygments_lexer": "ipython3",
   "version": "3.12.2"
  }
 },
 "nbformat": 4,
 "nbformat_minor": 2
}
