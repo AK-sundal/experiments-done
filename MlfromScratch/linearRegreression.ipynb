{
 "cells": [
  {
   "cell_type": "code",
   "execution_count": null,
   "metadata": {
    "vscode": {
     "languageId": "plaintext"
    }
   },
   "outputs": [],
   "source": [
    "import numpy as np\n",
    "\n",
    "\n",
    "class LinearRegression:\n",
    "\n",
    "    def __init__(self, lr = 0.001, n_iters=1000):\n",
    "        self.lr = lr\n",
    "        self.n_iters = n_iters\n",
    "        self.weights = None\n",
    "        self.bias = None\n",
    "\n",
    "    def fit(self, X, y):\n",
    "        n_samples, n_features = X.shape\n",
    "        self.weights = np.zeros(n_features)\n",
    "        self.bias = 0\n",
    "\n",
    "        for _ in range(self.n_iters):\n",
    "            y_pred = np.dot(X, self.weights) + self.bias\n",
    "\n",
    "            dw = (1/n_samples) * np.dot(X.T, (y_pred-y))\n",
    "            db = (1/n_samples) * np.sum(y_pred-y)\n",
    "\n",
    "            self.weights = self.weights - self.lr * dw\n",
    "            self.bias = self.bias - self.lr * db\n",
    "\n",
    "    def predict(self, X):\n",
    "        y_pred = np.dot(X, self.weights) + self.bias\n",
    "        return y_pred"
   ]
  },
  {
   "cell_type": "code",
   "execution_count": null,
   "metadata": {
    "vscode": {
     "languageId": "plaintext"
    }
   },
   "outputs": [],
   "source": [
    "import numpy as np\n",
    "from sklearn.model_selection import train_test_split\n",
    "from sklearn import datasets\n",
    "import matplotlib.pyplot as plt\n",
    "from LinearRegression import LinearRegression\n",
    "\n",
    "X, y = datasets.make_regression(n_samples=100, n_features=1, noise=20, random_state=4)\n",
    "X_train, X_test, y_train, y_test = train_test_split(X, y, test_size=0.2, random_state=1234)\n",
    "\n",
    "fig = plt.figure(figsize=(8,6))\n",
    "plt.scatter(X[:, 0], y, color = \"b\", marker = \"o\", s = 30)\n",
    "plt.show()\n",
    "\n",
    "reg = LinearRegression(lr=0.01)\n",
    "reg.fit(X_train,y_train)\n",
    "predictions = reg.predict(X_test)\n",
    "\n",
    "def mse(y_test, predictions):\n",
    "    return np.mean((y_test-predictions)**2)\n",
    "\n",
    "mse = mse(y_test, predictions)\n",
    "print(mse)\n",
    "\n",
    "y_pred_line = reg.predict(X)\n",
    "cmap = plt.get_cmap('viridis')\n",
    "fig = plt.figure(figsize=(8,6))\n",
    "m1 = plt.scatter(X_train, y_train, color=cmap(0.9), s=10)\n",
    "m2 = plt.scatter(X_test, y_test, color=cmap(0.5), s=10)\n",
    "plt.plot(X, y_pred_line, color='black', linewidth=2, label='Prediction')\n",
    "plt.show()"
   ]
  }
 ],
 "metadata": {
  "language_info": {
   "name": "python"
  }
 },
 "nbformat": 4,
 "nbformat_minor": 2
}
